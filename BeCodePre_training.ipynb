{
  "nbformat": 4,
  "nbformat_minor": 0,
  "metadata": {
    "colab": {
      "provenance": [],
      "toc_visible": true,
      "authorship_tag": "ABX9TyOTY/2M7p6UGqe9olXPPW82",
      "include_colab_link": true
    },
    "kernelspec": {
      "name": "python3",
      "display_name": "Python 3"
    },
    "language_info": {
      "name": "python"
    }
  },
  "cells": [
    {
      "cell_type": "markdown",
      "metadata": {
        "id": "view-in-github",
        "colab_type": "text"
      },
      "source": [
        "<a href=\"https://colab.research.google.com/github/NathNacht/Pythonwiki/blob/main/BeCodePre_training.ipynb\" target=\"_parent\"><img src=\"https://colab.research.google.com/assets/colab-badge.svg\" alt=\"Open In Colab\"/></a>"
      ]
    },
    {
      "cell_type": "markdown",
      "source": [
        "# Intro\n",
        "\n",
        "This notebook will be build up as a wiki\n",
        "\n",
        "\n",
        "---\n",
        "\n",
        "\n",
        "`Things to add`\n",
        "- lists, tuples, sets, dictionaries goodies\n",
        "- numpy\n",
        "\n",
        "\n",
        "---\n",
        "\n"
      ],
      "metadata": {
        "id": "3omAWIGBjjyd"
      }
    },
    {
      "cell_type": "markdown",
      "source": [
        "# BUILD-IN FUNCTIONS"
      ],
      "metadata": {
        "id": "K2YcqlrokSo6"
      }
    },
    {
      "cell_type": "markdown",
      "source": [
        "## Range\n",
        "\n",
        "`Unpacking objects`\n",
        "This is something that can be done by using a `*`"
      ],
      "metadata": {
        "id": "_G61b7uj9Cmo"
      }
    },
    {
      "cell_type": "code",
      "source": [
        "# Create a list of odd numbers from 1 to 11 by unpacking a range object\n",
        "nums_list = [*range(1,12,2)]\n",
        "print(nums_list)"
      ],
      "metadata": {
        "colab": {
          "base_uri": "https://localhost:8080/"
        },
        "id": "lnjYDgi59MVX",
        "outputId": "16f603bf-2dde-4161-c7c4-4229e0d8ef98"
      },
      "execution_count": null,
      "outputs": [
        {
          "output_type": "stream",
          "name": "stdout",
          "text": [
            "[1, 3, 5, 7, 9, 11]\n"
          ]
        }
      ]
    },
    {
      "cell_type": "markdown",
      "source": [
        "## Enumerate\n",
        "\n",
        "Combining with `List Comprehension` and `Unpacking objects`"
      ],
      "metadata": {
        "id": "9Oo7oGo88Z5q"
      }
    },
    {
      "cell_type": "code",
      "execution_count": null,
      "metadata": {
        "id": "Oh9cU6VXE2hq",
        "colab": {
          "base_uri": "https://localhost:8080/"
        },
        "outputId": "4a2f7865-dba0-4e77-a67b-26e4ed2bd071"
      },
      "outputs": [
        {
          "output_type": "stream",
          "name": "stdout",
          "text": [
            "[(0, 'Nathalie'), (1, 'Thomas'), (2, 'Arthur'), (3, 'Lennert')]\n",
            "[(1, 'Nathalie'), (2, 'Thomas'), (3, 'Arthur'), (4, 'Lennert')]\n"
          ]
        }
      ],
      "source": [
        "names = ['Nathalie', 'Thomas', 'Arthur', 'Lennert']\n",
        "\n",
        "# attaching an index to each name in names using a list comprehension\n",
        "indexed_names_comp = [(i,name) for i,name in enumerate(names)]\n",
        "print(indexed_names_comp)\n",
        "\n",
        "# do the same with unpacking the enumerate object with a starting index of one\n",
        "indexed_names_unpack = [*enumerate(names, 1)]\n",
        "print(indexed_names_unpack)"
      ]
    },
    {
      "cell_type": "markdown",
      "source": [
        "## Map\n",
        "\n",
        " Python's built-in map() function can be used to apply a function to every element of an object.\n",
        "\n",
        " Use again `*` to unpack all elements of the map"
      ],
      "metadata": {
        "id": "gAQubD2X9rvU"
      }
    },
    {
      "cell_type": "code",
      "source": [
        "names = ['Nathalie', 'Thomas', 'Arthur', 'Lennert']\n",
        "\n",
        "# Use map to apply str.upper to each element in names\n",
        "names_map  = map(str.upper, names)\n",
        "\n",
        "# Print the type of the names_map\n",
        "print(type(names_map))\n",
        "\n",
        "# Unpack names_map into a list\n",
        "names_uppercase = [*names_map]"
      ],
      "metadata": {
        "id": "Su5Ik1LO91Hb"
      },
      "execution_count": null,
      "outputs": []
    },
    {
      "cell_type": "markdown",
      "source": [
        "# DATATYPES\n",
        "\n"
      ],
      "metadata": {
        "id": "x794Lqvqa5LG"
      }
    },
    {
      "cell_type": "markdown",
      "source": [
        "## Lists\n"
      ],
      "metadata": {
        "id": "w-47gsZfa9re"
      }
    },
    {
      "cell_type": "code",
      "source": [
        "# Reverse printing a list\n",
        "buttons = [\"morning\", \"before lunch\", \"after lunch\", \"end of day\"]\n",
        "print(buttons[::-1])"
      ],
      "metadata": {
        "colab": {
          "base_uri": "https://localhost:8080/"
        },
        "id": "FkJu8dQJa_zl",
        "outputId": "54a8ceda-3a25-48a5-8dfa-edc6be18c35e"
      },
      "execution_count": 1,
      "outputs": [
        {
          "output_type": "stream",
          "name": "stdout",
          "text": [
            "['end of day', 'after lunch', 'before lunch', 'morning']\n"
          ]
        }
      ]
    },
    {
      "cell_type": "markdown",
      "source": [
        "# TIMING CODE\n",
        "\n",
        "This can be done by using a magic command `%timeit`.\n",
        "\n",
        "It provides an average of timing statistics.\n"
      ],
      "metadata": {
        "id": "keJRietDUbss"
      }
    },
    {
      "cell_type": "code",
      "source": [
        "import numpy as np\n",
        "\n",
        "%timeit rand_nums = np.random.rand(100)"
      ],
      "metadata": {
        "colab": {
          "base_uri": "https://localhost:8080/"
        },
        "id": "Sr76Cp27UYL2",
        "outputId": "b079c916-739e-4279-c533-f6494f092c33"
      },
      "execution_count": 1,
      "outputs": [
        {
          "output_type": "stream",
          "name": "stdout",
          "text": [
            "3.26 µs ± 663 ns per loop (mean ± std. dev. of 7 runs, 100000 loops each)\n"
          ]
        }
      ]
    }
  ]
}