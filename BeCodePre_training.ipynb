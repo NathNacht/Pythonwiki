{
  "nbformat": 4,
  "nbformat_minor": 0,
  "metadata": {
    "colab": {
      "provenance": [],
      "toc_visible": true,
      "authorship_tag": "ABX9TyM2ZhbkTnFhcjlkPJ0TJxsP",
      "include_colab_link": true
    },
    "kernelspec": {
      "name": "python3",
      "display_name": "Python 3"
    },
    "language_info": {
      "name": "python"
    }
  },
  "cells": [
    {
      "cell_type": "markdown",
      "metadata": {
        "id": "view-in-github",
        "colab_type": "text"
      },
      "source": [
        "<a href=\"https://colab.research.google.com/github/NathNacht/Pythonwiki/blob/main/BeCodePre_training.ipynb\" target=\"_parent\"><img src=\"https://colab.research.google.com/assets/colab-badge.svg\" alt=\"Open In Colab\"/></a>"
      ]
    },
    {
      "cell_type": "markdown",
      "source": [
        "# Intro\n",
        "\n",
        "This notebook will be build up as a wiki\n",
        "\n",
        "\n",
        "---\n",
        "\n",
        "\n",
        "`Things to add`\n",
        "- lists, tuples, sets, dictionaries goodies\n",
        "- numpy\n",
        "\n",
        "\n",
        "---\n",
        "\n"
      ],
      "metadata": {
        "id": "3omAWIGBjjyd"
      }
    },
    {
      "cell_type": "markdown",
      "source": [
        "# BUILD-IN FUNCTIONS"
      ],
      "metadata": {
        "id": "K2YcqlrokSo6"
      }
    },
    {
      "cell_type": "markdown",
      "source": [
        "## Range\n",
        "\n",
        "`Unpacking objects`\n",
        "This is something that can be done by using a `*`"
      ],
      "metadata": {
        "id": "_G61b7uj9Cmo"
      }
    },
    {
      "cell_type": "code",
      "source": [
        "# Create a list of odd numbers from 1 to 11 by unpacking a range object\n",
        "nums_list = [*range(1,12,2)]\n",
        "print(nums_list)"
      ],
      "metadata": {
        "colab": {
          "base_uri": "https://localhost:8080/"
        },
        "id": "lnjYDgi59MVX",
        "outputId": "16f603bf-2dde-4161-c7c4-4229e0d8ef98"
      },
      "execution_count": null,
      "outputs": [
        {
          "output_type": "stream",
          "name": "stdout",
          "text": [
            "[1, 3, 5, 7, 9, 11]\n"
          ]
        }
      ]
    },
    {
      "cell_type": "markdown",
      "source": [
        "## Enumerate\n",
        "\n",
        "Combining with `List Comprehension` and `Unpacking objects`"
      ],
      "metadata": {
        "id": "9Oo7oGo88Z5q"
      }
    },
    {
      "cell_type": "code",
      "execution_count": null,
      "metadata": {
        "id": "Oh9cU6VXE2hq",
        "colab": {
          "base_uri": "https://localhost:8080/"
        },
        "outputId": "4a2f7865-dba0-4e77-a67b-26e4ed2bd071"
      },
      "outputs": [
        {
          "output_type": "stream",
          "name": "stdout",
          "text": [
            "[(0, 'Nathalie'), (1, 'Thomas'), (2, 'Arthur'), (3, 'Lennert')]\n",
            "[(1, 'Nathalie'), (2, 'Thomas'), (3, 'Arthur'), (4, 'Lennert')]\n"
          ]
        }
      ],
      "source": [
        "names = ['Nathalie', 'Thomas', 'Arthur', 'Lennert']\n",
        "\n",
        "# attaching an index to each name in names using a list comprehension\n",
        "indexed_names_comp = [(i,name) for i,name in enumerate(names)]\n",
        "print(indexed_names_comp)\n",
        "\n",
        "# do the same with unpacking the enumerate object with a starting index of one\n",
        "indexed_names_unpack = [*enumerate(names, 1)]\n",
        "print(indexed_names_unpack)"
      ]
    },
    {
      "cell_type": "markdown",
      "source": [
        "## Map\n",
        "\n",
        " Python's built-in map() function can be used to apply a function to every element of an object.\n",
        "\n",
        " Use again `*` to unpack all elements of the map"
      ],
      "metadata": {
        "id": "gAQubD2X9rvU"
      }
    },
    {
      "cell_type": "code",
      "source": [
        "names = ['Nathalie', 'Thomas', 'Arthur', 'Lennert']\n",
        "\n",
        "# Use map to apply str.upper to each element in names\n",
        "names_map  = map(str.upper, names)\n",
        "\n",
        "# Print the type of the names_map\n",
        "print(type(names_map))\n",
        "\n",
        "# Unpack names_map into a list\n",
        "names_uppercase = [*names_map]"
      ],
      "metadata": {
        "id": "Su5Ik1LO91Hb"
      },
      "execution_count": null,
      "outputs": []
    },
    {
      "cell_type": "markdown",
      "source": [
        "# DATATYPES\n",
        "\n"
      ],
      "metadata": {
        "id": "x794Lqvqa5LG"
      }
    },
    {
      "cell_type": "markdown",
      "source": [
        "## Lists\n"
      ],
      "metadata": {
        "id": "w-47gsZfa9re"
      }
    },
    {
      "cell_type": "code",
      "source": [
        "# creating a list\n",
        "\n",
        "formal_list = list()\n",
        "literal_list = []"
      ],
      "metadata": {
        "id": "qngm9EENeHoG"
      },
      "execution_count": null,
      "outputs": []
    },
    {
      "cell_type": "code",
      "source": [
        "# Reverse printing a list\n",
        "buttons = [\"morning\", \"before lunch\", \"after lunch\", \"end of day\"]\n",
        "print(buttons[::-1])"
      ],
      "metadata": {
        "colab": {
          "base_uri": "https://localhost:8080/"
        },
        "id": "FkJu8dQJa_zl",
        "outputId": "54a8ceda-3a25-48a5-8dfa-edc6be18c35e"
      },
      "execution_count": null,
      "outputs": [
        {
          "output_type": "stream",
          "name": "stdout",
          "text": [
            "['end of day', 'after lunch', 'before lunch', 'morning']\n"
          ]
        }
      ]
    },
    {
      "cell_type": "markdown",
      "source": [
        "## Dictionary"
      ],
      "metadata": {
        "id": "9avaKmTbeP7f"
      }
    },
    {
      "cell_type": "code",
      "source": [
        "# creating a dictionary\n",
        "formal_dict = dict()\n",
        "literal_dict = {}"
      ],
      "metadata": {
        "id": "s-KIntx8eQdP"
      },
      "execution_count": null,
      "outputs": []
    },
    {
      "cell_type": "markdown",
      "source": [
        "## Tuple"
      ],
      "metadata": {
        "id": "x16F4Mh9edNs"
      }
    },
    {
      "cell_type": "code",
      "source": [
        "# creating a tuple\n",
        "formal_tuple = tuple()\n",
        "literal_tuple = ()"
      ],
      "metadata": {
        "id": "OFbQ6CrPedZ6"
      },
      "execution_count": null,
      "outputs": []
    },
    {
      "cell_type": "markdown",
      "source": [
        "# Magic Commands\n",
        "\n",
        "Magic commands, also known as magic functions, are special commands that IPython offers compared to the standard Python shell. They are available in Jupyter Notebook, the official IPython Notebook."
      ],
      "metadata": {
        "id": "ZC_iCAa44lI7"
      }
    },
    {
      "cell_type": "code",
      "source": [
        "%lsmagic"
      ],
      "metadata": {
        "id": "4a0n0mBh4p9t",
        "outputId": "79376aee-dbfc-4eed-b150-23d9d6a59ca1",
        "colab": {
          "base_uri": "https://localhost:8080/",
          "height": 364
        }
      },
      "execution_count": null,
      "outputs": [
        {
          "output_type": "execute_result",
          "data": {
            "text/plain": [
              "Available line magics:\n",
              "%alias  %alias_magic  %autoawait  %autocall  %automagic  %autosave  %bookmark  %cat  %cd  %clear  %colors  %conda  %config  %connect_info  %cp  %debug  %dhist  %dirs  %doctest_mode  %ed  %edit  %env  %gui  %hist  %history  %killbgscripts  %ldir  %less  %lf  %lk  %ll  %load  %load_ext  %loadpy  %logoff  %logon  %logstart  %logstate  %logstop  %ls  %lsmagic  %lx  %macro  %magic  %man  %matplotlib  %mkdir  %more  %mv  %notebook  %page  %pastebin  %pdb  %pdef  %pdoc  %pfile  %pinfo  %pinfo2  %pip  %popd  %pprint  %precision  %prun  %psearch  %psource  %pushd  %pwd  %pycat  %pylab  %qtconsole  %quickref  %recall  %rehashx  %reload_ext  %rep  %rerun  %reset  %reset_selective  %rm  %rmdir  %run  %save  %sc  %set_env  %shell  %store  %sx  %system  %tb  %tensorflow_version  %time  %timeit  %unalias  %unload_ext  %who  %who_ls  %whos  %xdel  %xmode\n",
              "\n",
              "Available cell magics:\n",
              "%%!  %%HTML  %%SVG  %%bash  %%bigquery  %%capture  %%debug  %%file  %%html  %%javascript  %%js  %%latex  %%markdown  %%perl  %%prun  %%pypy  %%python  %%python2  %%python3  %%ruby  %%script  %%sh  %%shell  %%svg  %%sx  %%system  %%time  %%timeit  %%writefile\n",
              "\n",
              "Automagic is ON, % prefix IS NOT needed for line magics."
            ],
            "application/json": {
              "line": {
                "automagic": "AutoMagics",
                "autocall": "AutoMagics",
                "alias_magic": "BasicMagics",
                "lsmagic": "BasicMagics",
                "magic": "BasicMagics",
                "page": "BasicMagics",
                "pprint": "BasicMagics",
                "colors": "BasicMagics",
                "xmode": "BasicMagics",
                "quickref": "BasicMagics",
                "doctest_mode": "BasicMagics",
                "gui": "BasicMagics",
                "precision": "BasicMagics",
                "notebook": "BasicMagics",
                "save": "CodeMagics",
                "pastebin": "CodeMagics",
                "loadpy": "CodeMagics",
                "load": "CodeMagics",
                "edit": "KernelMagics",
                "config": "ConfigMagics",
                "prun": "ExecutionMagics",
                "pdb": "ExecutionMagics",
                "debug": "ExecutionMagics",
                "tb": "ExecutionMagics",
                "run": "ExecutionMagics",
                "timeit": "ExecutionMagics",
                "time": "ExecutionMagics",
                "macro": "ExecutionMagics",
                "load_ext": "ExtensionMagics",
                "unload_ext": "ExtensionMagics",
                "reload_ext": "ExtensionMagics",
                "history": "HistoryMagics",
                "recall": "HistoryMagics",
                "rerun": "HistoryMagics",
                "logstart": "LoggingMagics",
                "logstop": "LoggingMagics",
                "logoff": "LoggingMagics",
                "logon": "LoggingMagics",
                "logstate": "LoggingMagics",
                "pinfo": "NamespaceMagics",
                "pinfo2": "NamespaceMagics",
                "pdef": "NamespaceMagics",
                "pdoc": "NamespaceMagics",
                "psource": "NamespaceMagics",
                "pfile": "NamespaceMagics",
                "psearch": "NamespaceMagics",
                "who_ls": "NamespaceMagics",
                "who": "NamespaceMagics",
                "whos": "NamespaceMagics",
                "reset": "NamespaceMagics",
                "reset_selective": "NamespaceMagics",
                "xdel": "NamespaceMagics",
                "alias": "OSMagics",
                "unalias": "OSMagics",
                "rehashx": "OSMagics",
                "pwd": "OSMagics",
                "cd": "OSMagics",
                "env": "OSMagics",
                "set_env": "OSMagics",
                "pushd": "OSMagics",
                "popd": "OSMagics",
                "dirs": "OSMagics",
                "dhist": "OSMagics",
                "sc": "OSMagics",
                "sx": "OSMagics",
                "system": "OSMagics",
                "bookmark": "OSMagics",
                "pycat": "OSMagics",
                "pip": "Other",
                "conda": "PackagingMagics",
                "matplotlib": "PylabMagics",
                "pylab": "PylabMagics",
                "killbgscripts": "ScriptMagics",
                "autoawait": "AsyncMagics",
                "ed": "Other",
                "hist": "Other",
                "rep": "Other",
                "clear": "KernelMagics",
                "less": "KernelMagics",
                "more": "KernelMagics",
                "man": "KernelMagics",
                "connect_info": "KernelMagics",
                "qtconsole": "KernelMagics",
                "autosave": "KernelMagics",
                "mkdir": "Other",
                "rmdir": "Other",
                "mv": "Other",
                "rm": "Other",
                "cp": "Other",
                "cat": "Other",
                "ls": "Other",
                "ll": "Other",
                "lf": "Other",
                "lk": "Other",
                "ldir": "Other",
                "lx": "Other",
                "store": "StoreMagics",
                "shell": "Other",
                "tensorflow_version": "Other"
              },
              "cell": {
                "js": "DisplayMagics",
                "javascript": "DisplayMagics",
                "latex": "DisplayMagics",
                "svg": "DisplayMagics",
                "html": "DisplayMagics",
                "markdown": "DisplayMagics",
                "prun": "ExecutionMagics",
                "debug": "ExecutionMagics",
                "timeit": "ExecutionMagics",
                "time": "ExecutionMagics",
                "capture": "ExecutionMagics",
                "sx": "OSMagics",
                "system": "OSMagics",
                "!": "OSMagics",
                "writefile": "OSMagics",
                "script": "ScriptMagics",
                "sh": "Other",
                "bash": "Other",
                "perl": "Other",
                "ruby": "Other",
                "python": "Other",
                "python2": "Other",
                "python3": "Other",
                "pypy": "Other",
                "SVG": "Other",
                "HTML": "Other",
                "file": "Other",
                "bigquery": "Other",
                "shell": "Other"
              }
            }
          },
          "metadata": {},
          "execution_count": 1
        }
      ]
    },
    {
      "cell_type": "code",
      "source": [
        "%quickref"
      ],
      "metadata": {
        "id": "WdEocu1h5GCl"
      },
      "execution_count": null,
      "outputs": []
    },
    {
      "cell_type": "markdown",
      "source": [
        "# TIMING CODE\n",
        "\n",
        "This can be done by using a magic command `%timeit`.\n",
        "\n",
        "It provides an average of timing statistics.\n",
        "\n",
        "- Number of runs can be specified with `-r`\n",
        "- Number of loops can be specified with `-n`\n",
        "- Saving the output to a variable can be done using `-o`\n",
        "\n",
        "When the output is saved, timings can be examined using\n",
        "\n",
        "\n",
        "* `times.timings`\n",
        "* `times.best`   \n",
        "* `times.worst`"
      ],
      "metadata": {
        "id": "keJRietDUbss"
      }
    },
    {
      "cell_type": "code",
      "source": [
        "# using timeit in single line\n",
        "import numpy as np\n",
        "\n",
        "%timeit rand_nums = np.random.rand(100)"
      ],
      "metadata": {
        "colab": {
          "base_uri": "https://localhost:8080/"
        },
        "id": "Sr76Cp27UYL2",
        "outputId": "b079c916-739e-4279-c533-f6494f092c33"
      },
      "execution_count": null,
      "outputs": [
        {
          "output_type": "stream",
          "name": "stdout",
          "text": [
            "3.26 µs ± 663 ns per loop (mean ± std. dev. of 7 runs, 100000 loops each)\n"
          ]
        }
      ]
    },
    {
      "cell_type": "code",
      "source": [
        "# using timeit in cell magic mode\n",
        "\n",
        "%%timeit\n",
        "nums = []\n",
        "for x in range(10):\n",
        "  nums.append(x)"
      ],
      "metadata": {
        "colab": {
          "base_uri": "https://localhost:8080/"
        },
        "id": "SkXWjXqfc11k",
        "outputId": "93c3f2e9-d5e7-42f1-bf7f-1fc3a1263ff0"
      },
      "execution_count": null,
      "outputs": [
        {
          "output_type": "stream",
          "name": "stdout",
          "text": [
            "790 ns ± 5.82 ns per loop (mean ± std. dev. of 7 runs, 1000000 loops each)\n"
          ]
        }
      ]
    },
    {
      "cell_type": "markdown",
      "source": [
        "# Workflow for treating missing values\n",
        "1. Convert all missing values to null values.\n",
        "2. Analyze the amount and type of missingness in the data.\n",
        "3. Appropriately delete or impute missing values.\n",
        "4. Evaluate & compare the performance of the treated/imputed dataset.\n"
      ],
      "metadata": {
        "id": "B3sfRTymeb6C"
      }
    },
    {
      "cell_type": "code",
      "source": [],
      "metadata": {
        "id": "smP5WN1EdBWM"
      },
      "execution_count": null,
      "outputs": []
    }
  ]
}