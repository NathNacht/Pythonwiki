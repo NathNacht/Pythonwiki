{
  "nbformat": 4,
  "nbformat_minor": 0,
  "metadata": {
    "colab": {
      "provenance": [],
      "authorship_tag": "ABX9TyPUX3srfZYZJKIjMD6t+3Fq",
      "include_colab_link": true
    },
    "kernelspec": {
      "name": "python3",
      "display_name": "Python 3"
    },
    "language_info": {
      "name": "python"
    }
  },
  "cells": [
    {
      "cell_type": "markdown",
      "metadata": {
        "id": "view-in-github",
        "colab_type": "text"
      },
      "source": [
        "<a href=\"https://colab.research.google.com/github/NathNacht/Pythonwiki/blob/main/wiki01.ipynb\" target=\"_parent\"><img src=\"https://colab.research.google.com/assets/colab-badge.svg\" alt=\"Open In Colab\"/></a>"
      ]
    },
    {
      "cell_type": "markdown",
      "source": [
        "This is a pythonwiki."
      ],
      "metadata": {
        "id": "iJ9z3b8b5chq"
      }
    },
    {
      "cell_type": "markdown",
      "source": [
        "Reverse printing a list"
      ],
      "metadata": {
        "id": "mtphNMfg5sN7"
      }
    },
    {
      "cell_type": "code",
      "execution_count": 1,
      "metadata": {
        "id": "zt78sm3Q4hcs",
        "outputId": "08d36ace-152c-4f56-f6b6-bc585170c6b0",
        "colab": {
          "base_uri": "https://localhost:8080/"
        }
      },
      "outputs": [
        {
          "output_type": "stream",
          "name": "stdout",
          "text": [
            "['end of day', 'after lunch', 'before lunch', 'morning']\n"
          ]
        }
      ],
      "source": [
        "buttons = [\"morning\", \"before lunch\", \"after lunch\", \"end of day\"]\n",
        "print(buttons[::-1])"
      ]
    }
  ]
}